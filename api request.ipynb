{
  "cells": [
    {
      "cell_type": "code",
      "source": [
        "import requests\n",
        "import json\n",
        "import os\n",
        "json_file_count = 0\n",
        "url_offset = 1\n",
        "\n",
        "\n",
        "token = input('Token:')\n",
        "payload = {}\n",
        "headers = {\n",
        "  'Content-Type': 'application/json',\n",
        "  'token': token,\n",
        "  'Authorization': 'Bearer' + token\n",
        "}\n",
        "\n",
        "# data = (response.text.encode('utf8'))\n",
        "\n",
        "def write(jsonfile, data):\n",
        "    with open(jsonfile, 'w') as outfile:\n",
        "        json.dump(data, outfile)\n",
        "\n",
        "for i in range(0,2):\n",
        "    url = \"https://www.ncdc.noaa.gov/cdo-web/api/v2/data?datasetid=GHCND&locationid=FIPS:10003&startdate=2018-01-01&enddate=2018-01-31&limit=1000&offset=\" + str(url_offset)\n",
        "    response = requests.request(\"GET\", url, headers=headers, data = payload)\n",
        "    data = response.json()\n",
        "    jsonfile = \"/Users/deana/Documents/Projects/noaadailysummaries-deanastuart/data/daily_summaries_FIPS10003_jan_2018_\" + str(json_file_count) + \".json\"\n",
        "    write(jsonfile, data)\n",
        "    json_file_count += 1\n",
        "    url_offset += 1000"
      ],
      "outputs": [],
      "execution_count": null,
      "metadata": {
        "collapsed": true,
        "jupyter": {
          "source_hidden": false,
          "outputs_hidden": false
        },
        "nteract": {
          "transient": {
            "deleting": false
          }
        },
        "execution": {
          "iopub.status.busy": "2020-11-30T14:34:08.235Z",
          "iopub.execute_input": "2020-11-30T14:34:08.255Z",
          "shell.execute_reply": "2020-11-30T01:43:01.275Z",
          "iopub.status.idle": "2020-11-30T01:43:01.282Z"
        }
      }
    },
    {
      "cell_type": "code",
      "source": [],
      "outputs": [],
      "execution_count": null,
      "metadata": {
        "collapsed": true,
        "jupyter": {
          "source_hidden": false,
          "outputs_hidden": false
        },
        "nteract": {
          "transient": {
            "deleting": false
          }
        }
      }
    }
  ],
  "metadata": {
    "kernel_info": {
      "name": "python3"
    },
    "language_info": {
      "name": "python",
      "version": "3.8.3",
      "mimetype": "text/x-python",
      "codemirror_mode": {
        "name": "ipython",
        "version": 3
      },
      "pygments_lexer": "ipython3",
      "nbconvert_exporter": "python",
      "file_extension": ".py"
    },
    "kernelspec": {
      "argv": [
        "/Users/deana/opt/anaconda3/bin/python",
        "-m",
        "ipykernel_launcher",
        "-f",
        "{connection_file}"
      ],
      "display_name": "Python 3",
      "language": "python",
      "name": "python3"
    },
    "nteract": {
      "version": "0.26.0"
    }
  },
  "nbformat": 4,
  "nbformat_minor": 0
}